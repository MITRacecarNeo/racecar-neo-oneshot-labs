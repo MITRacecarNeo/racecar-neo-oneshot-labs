{
 "cells": [
  {
   "cell_type": "code",
   "execution_count": null,
   "id": "3ecedf1f-5c7a-4db5-aa7e-5deaee80e683",
   "metadata": {},
   "outputs": [],
   "source": [
    "# We will not be using simulation here, so this variable should never change\n",
    "isSimulation = False\n",
    "\n",
    "# Import Python libraries\n",
    "import cv2 as cv\n",
    "import numpy as np\n",
    "import matplotlib.pyplot as plt\n",
    "import ipywidgets as widgets\n",
    "from nptyping import NDArray\n",
    "from typing import Any, Tuple, List, Optional\n",
    "import threading\n",
    "\n",
    "# Import Racecar library\n",
    "import sys\n",
    "sys.path.insert(1, \"../library\")\n",
    "import racecar_core\n",
    "import racecar_utils as rc_utils"
   ]
  },
  {
   "cell_type": "code",
   "execution_count": null,
   "id": "72807a35-d024-4fbd-afcf-606fcedeb300",
   "metadata": {},
   "outputs": [],
   "source": [
    "# Create Racecar\n",
    "rc = racecar_core.create_racecar(isSimulation)\n",
    "rc.go_async()"
   ]
  },
  {
   "cell_type": "markdown",
   "id": "515c001e-ac07-46b0-9035-1955c8c491e3",
   "metadata": {},
   "source": [
    "# Camera"
   ]
  },
  {
   "cell_type": "code",
   "execution_count": null,
   "id": "3f045dcd-ffaa-4bdf-87d3-0dd68ceb4b38",
   "metadata": {},
   "outputs": [],
   "source": [
    "# Retrieve current image from buffer\n",
    "image = rc.camera.get_color_image()\n",
    "\n",
    "# Show image\n",
    "plt.imshow(cv.cvtColor(image, cv.COLOR_BGR2RGB))\n",
    "plt.show()"
   ]
  },
  {
   "cell_type": "markdown",
   "id": "85647e4d-e5f1-4063-aac6-10907ab78b74",
   "metadata": {},
   "source": [
    "# LIDAR"
   ]
  },
  {
   "cell_type": "code",
   "execution_count": null,
   "id": "a223e335-b0ec-4939-ac8b-602cb94d4d56",
   "metadata": {},
   "outputs": [],
   "source": [
    "# Access the current LIDAR scan\n",
    "scan = rc.lidar.get_samples()\n",
    "\n",
    "# Show lidar data\n",
    "# Create a square black image with the requested radius\n",
    "import math\n",
    "\n",
    "radius = 128\n",
    "max_range = 400\n",
    "highlighted_samples=[(0, 100), (90, 100), (180, 100), (270, 100)]\n",
    "\n",
    "image = np.zeros((2 * radius, 2 * radius, 3), np.uint8, \"C\")\n",
    "num_samples: int = len(scan)\n",
    "\n",
    "# TODO: Draw a green dot at the center of the image to denote the car\n",
    "# Hint: Use rc_utils.draw_circle\n",
    "CAR_DOT_RADIUS = 2\n",
    "rc_utils.draw_circle(\n",
    "    image,\n",
    "    (radius, radius),\n",
    "    (0, 255, 0),\n",
    "    CAR_DOT_RADIUS,\n",
    ")\n",
    "    \n",
    "# TODO: Draw a red pixel for each non-zero sample less than max_range\n",
    "for i in range(num_samples):\n",
    "    if 0 < scan[i] < max_range:\n",
    "        angle: float = 2 * math.pi * i / num_samples\n",
    "        length: float = radius * scan[i] / max_range\n",
    "        r: int = int(radius - length * math.cos(angle))\n",
    "        c: int = int(radius + length * math.sin(angle))\n",
    "        image[r][c][2] = 255\n",
    "\n",
    "# TODO: Draw a light blue dot for each point in highlighted_samples\n",
    "# Hint: Use rc_utils.draw_circle\n",
    "HIGHLIGHT_DOT_RADIUS = 2\n",
    "for (angle, distance) in highlighted_samples:\n",
    "    if 0 < distance < max_range:\n",
    "        angle_rad = angle * math.pi / 180\n",
    "        length: float = radius * distance / max_range\n",
    "        r: int = int(radius - length * math.cos(angle_rad))\n",
    "        c: int = int(radius + length * math.sin(angle_rad))\n",
    "        rc_utils.draw_circle(\n",
    "            image,\n",
    "            (r, c),\n",
    "            (255, 255, 0),\n",
    "            HIGHLIGHT_DOT_RADIUS\n",
    "        )\n",
    "\n",
    "# Show the image with Matplotlib\n",
    "plt.imshow(cv.cvtColor(image, cv.COLOR_BGR2RGB))\n",
    "plt.show()"
   ]
  },
  {
   "cell_type": "markdown",
   "id": "d3ee8fef-9840-4144-9237-83547f16bc88",
   "metadata": {},
   "source": [
    "# IMU"
   ]
  },
  {
   "cell_type": "code",
   "execution_count": null,
   "id": "2dd2c1aa-0330-49da-ab96-5831465210d9",
   "metadata": {},
   "outputs": [],
   "source": [
    "# Retrieve current IMU values and print to screen\n",
    "ang_vel = rc.physics.get_angular_velocity()\n",
    "accel = rc.physics.get_linear_acceleration()\n",
    "print(f\"IMU Values: ang_vel = {ang_vel}, accel = {accel}\")"
   ]
  },
  {
   "cell_type": "markdown",
   "id": "88b15e86-5854-40c4-a350-12227b4f586e",
   "metadata": {},
   "source": [
    "# Dot Matrix"
   ]
  },
  {
   "cell_type": "code",
   "execution_count": null,
   "id": "2cc259c7-9c57-4603-8929-98e84f77c7d1",
   "metadata": {},
   "outputs": [],
   "source": [
    "# Create a new matrix of all zeroes.\n",
    "my_matrix = rc.display.new_matrix()\n",
    "\n",
    "# Set the top left pixel to on, then display the matrix on the dot matrix.\n",
    "my_matrix[0, 0] = 1\n",
    "rc.display.set_matrix(my_matrix)"
   ]
  },
  {
   "cell_type": "code",
   "execution_count": null,
   "id": "6ee6a483-a1d5-4d55-8036-25dead1520b8",
   "metadata": {},
   "outputs": [],
   "source": [
    "# clear the dot matrix\n",
    "new_matrix = rc.display.new_matrix()\n",
    "rc.display.set_matrix(new_matrix)"
   ]
  }
 ],
 "metadata": {
  "kernelspec": {
   "display_name": "Python 3 (ipykernel)",
   "language": "python",
   "name": "python3"
  },
  "language_info": {
   "codemirror_mode": {
    "name": "ipython",
    "version": 3
   },
   "file_extension": ".py",
   "mimetype": "text/x-python",
   "name": "python",
   "nbconvert_exporter": "python",
   "pygments_lexer": "ipython3",
   "version": "3.10.12"
  }
 },
 "nbformat": 4,
 "nbformat_minor": 5
}
